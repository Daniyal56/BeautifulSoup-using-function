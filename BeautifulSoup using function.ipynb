{
 "cells": [
  {
   "cell_type": "code",
   "execution_count": 6,
   "metadata": {},
   "outputs": [],
   "source": [
    "import requests\n",
    "from bs4 import BeautifulSoup\n",
    "import operator\n",
    "from collections import Counter\n",
    "\n",
    "def start(url):\n",
    "    \n",
    "    wordlist=[]\n",
    "    source_coude = requests.get(url).text\n",
    "    soup = BeautifulSoup(source_code,'html.parser')\n",
    "    \n",
    "    for each_text in soup.findAll('div',{'class' : 'entry-content'}):\n",
    "        content = each_text.text\n",
    "        words = content.lower().split()\n",
    "        \n",
    "        for each_word in words:\n",
    "            wordlist.append(each_word)\n",
    "        clean_list(wordlist)\n",
    "        \n",
    "def clean_list(wordlist):\n",
    "    \n",
    "    clean_list=[]\n",
    "    for word in clean_list:\n",
    "        symbols= '!@#$%^&*()'\n",
    "        for i in range(0,len(symbols)):\n",
    "            word.replace(symbols[i],' ')\n",
    "        if len(symbols)>0:\n",
    "            clean_list.append(word)\n",
    "        create_dictionary(clean_list)\n",
    "def create_dictionary(clean_list):\n",
    "    \n",
    "    word_count = {}\n",
    "    for word in word_count:\n",
    "        if word in word_count:\n",
    "            word_count[word] += 1\n",
    "        else:\n",
    "            word_count[word] = 1\n",
    "            \n",
    "    c = Counter(word_count)\n",
    "    top = c.most_common(10)\n",
    "    print(top)\n",
    "    \n",
    "#Driver Code\n",
    "if __name__ == '__main__':\n",
    "    start('')\n"
   ]
  },
  {
   "cell_type": "code",
   "execution_count": null,
   "metadata": {},
   "outputs": [],
   "source": []
  }
 ],
 "metadata": {
  "kernelspec": {
   "display_name": "Python 3",
   "language": "python",
   "name": "python3"
  },
  "language_info": {
   "codemirror_mode": {
    "name": "ipython",
    "version": 3
   },
   "file_extension": ".py",
   "mimetype": "text/x-python",
   "name": "python",
   "nbconvert_exporter": "python",
   "pygments_lexer": "ipython3",
   "version": "3.7.4"
  }
 },
 "nbformat": 4,
 "nbformat_minor": 2
}
